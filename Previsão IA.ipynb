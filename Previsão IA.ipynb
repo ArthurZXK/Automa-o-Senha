{
 "cells": [
  {
   "cell_type": "code",
   "execution_count": null,
   "id": "11722229",
   "metadata": {},
   "outputs": [],
   "source": [
    "!pip install yfinance prophet"
   ]
  },
  {
   "cell_type": "code",
   "execution_count": null,
   "id": "6edc706f",
   "metadata": {},
   "outputs": [],
   "source": [
    "import yfinance as yf\n",
    "from prophet import Prophet\n",
    "from prophet.plot import plot_plotly"
   ]
  },
  {
   "cell_type": "code",
   "execution_count": null,
   "id": "7cbe42ed",
   "metadata": {},
   "outputs": [],
   "source": [
    "ticker = input(\"Digite o código da ação desejada: \")\n",
    "dados = yf.Ticker(ticker).history(\"2y\")"
   ]
  },
  {
   "cell_type": "code",
   "execution_count": null,
   "id": "7eb35814",
   "metadata": {},
   "outputs": [],
   "source": [
    "dados.Close.plot()"
   ]
  },
  {
   "cell_type": "code",
   "execution_count": null,
   "id": "fac50cb1",
   "metadata": {},
   "outputs": [],
   "source": [
    "# resetando o índice do DataFrame\n",
    "treinamento = dados.reset_index()"
   ]
  },
  {
   "cell_type": "code",
   "execution_count": null,
   "id": "8bde19c4",
   "metadata": {},
   "outputs": [],
   "source": [
    "# retirando o timezone (fuso horário) da coluna de data\n",
    "treinamento[\"Date\"] = treinamento[\"Date\"].dt.tz_localize(None)"
   ]
  },
  {
   "cell_type": "code",
   "execution_count": null,
   "id": "197e774d",
   "metadata": {},
   "outputs": [],
   "source": [
    "# selecionando as colunas de data e valor de fechamento\n",
    "treinamento = treinamento[['Date', 'Close']]"
   ]
  },
  {
   "cell_type": "code",
   "execution_count": null,
   "id": "784b25ce",
   "metadata": {},
   "outputs": [],
   "source": [
    "# renomeando as colunas (o Prophet precisa receber os dados com esse padrão)\n",
    "treinamento.columns = ['ds', 'y']"
   ]
  },
  {
   "cell_type": "code",
   "execution_count": null,
   "id": "c955842a",
   "metadata": {},
   "outputs": [],
   "source": [
    "# criando o modelo\n",
    "modelo = Prophet()\n",
    "\n",
    "# treinando o modelo com os dados de treinamento\n",
    "modelo.fit(treinamento)\n",
    "\n",
    "# especificando o período das previsões (em dias)\n",
    "periodo = modelo.make_future_dataframe(periods=90)\n",
    "\n",
    "# gerando as previsões\n",
    "previsoes = modelo.predict(periodo)\n"
   ]
  },
  {
   "cell_type": "code",
   "execution_count": null,
   "id": "daf76eb1",
   "metadata": {},
   "outputs": [],
   "source": [
    "plot_plotly(modelo, previsoes, xlabel = \"período\", ylabel=\"valor\")"
   ]
  }
 ],
 "metadata": {
  "kernelspec": {
   "display_name": "Python 3 (ipykernel)",
   "language": "python",
   "name": "python3"
  },
  "language_info": {
   "codemirror_mode": {
    "name": "ipython",
    "version": 3
   },
   "file_extension": ".py",
   "mimetype": "text/x-python",
   "name": "python",
   "nbconvert_exporter": "python",
   "pygments_lexer": "ipython3",
   "version": "3.9.13"
  }
 },
 "nbformat": 4,
 "nbformat_minor": 5
}
